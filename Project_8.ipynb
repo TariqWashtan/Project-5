{
 "cells": [
  {
   "cell_type": "code",
   "execution_count": 1,
   "metadata": {},
   "outputs": [],
   "source": [
    "import requests\n",
    "from bs4 import BeautifulSoup\n",
    "from selenium import webdriver  \n",
    "import pandas as pd"
   ]
  },
  {
   "cell_type": "code",
   "execution_count": 6,
   "metadata": {},
   "outputs": [
    {
     "name": "stdout",
     "output_type": "stream",
     "text": [
      "200\n"
     ]
    }
   ],
   "source": [
    "url = 'https://foursquare.com/explore?mode=url&ne=24.66137%2C46.765409&q=Food&sw=24.601685%2C46.668591'\n",
    "page = requests.get(url)\n",
    "print(page.status_code)"
   ]
  },
  {
   "cell_type": "code",
   "execution_count": 7,
   "metadata": {},
   "outputs": [
    {
     "name": "stdout",
     "output_type": "stream",
     "text": [
      "<class 'bs4.BeautifulSoup'>\n"
     ]
    }
   ],
   "source": [
    "soup = BeautifulSoup(page.content, 'html.parser')\n",
    "print(type(soup))"
   ]
  },
  {
   "cell_type": "code",
   "execution_count": 8,
   "metadata": {},
   "outputs": [
    {
     "data": {
      "text/plain": [
       "'Food Al-Margab'"
      ]
     },
     "execution_count": 8,
     "metadata": {},
     "output_type": "execute_result"
    }
   ],
   "source": [
    "page_title = soup.title.text # gets you the text of the <title>(...)</title>\n",
    "page_title"
   ]
  },
  {
   "cell_type": "code",
   "execution_count": 9,
   "metadata": {},
   "outputs": [],
   "source": [
    "driver = webdriver.Chrome()\n",
    "# request the page \n",
    "driver.get(url)\n",
    "\n",
    "        # extract the body and parse it\n",
    "soup = BeautifulSoup(driver.page_source, \"html.parser\")\n",
    "driver.quit()"
   ]
  },
  {
   "cell_type": "code",
   "execution_count": 26,
   "metadata": {},
   "outputs": [],
   "source": [
    "\n",
    "driver = webdriver.Chrome()\n",
    "url = 'https://foursquare.com/explore?mode=url&ne=24.66137%2C46.765409&q=Food&sw=24.601685%2C46.668591'\n",
    "columns_ = ['Name', 'Score', 'Category', 'Price_Range']\n",
    "df = pd.DataFrame(columns=columns_)\n",
    "\n",
    "for i in range(2, 12):  # Adjust the range to try 10 pages\n",
    "    # Request the page\n",
    "    driver.get(url)\n",
    "\n",
    "    # Extract the body and parse it\n",
    "    soup = BeautifulSoup(driver.page_source, \"html.parser\")\n",
    "\n",
    "    # Extract names, scores, categories, and price ranges from the page\n",
    "    names = soup.find_all('div', {'class': 'venueName'})\n",
    "    scores = soup.find_all('div', {'class': 'venueScore positive', 'title': '', 'style': 'background-color: #00B551;'})\n",
    "    categories = soup.find_all('span', {'class': 'categoryName'})\n",
    "    price_ranges = soup.find_all('span', {'class': 'venueDataItem'})\n",
    "\n",
    "    # Clean the data\n",
    "    clean_Name = [p.text.strip() for p in names]\n",
    "    clean_Score = [n.text.strip() for n in scores]\n",
    "    clean_Category = [m.text.strip() for m in categories]\n",
    "\n",
    "    # Extract and clean price ranges\n",
    "    clean_Price_Range = []\n",
    "    for span in price_ranges:\n",
    "        price_span = span.find('span', {'class': 'price'})\n",
    "        if price_span:\n",
    "            price_text = price_span.find('span', {'class': 'darken'})\n",
    "            if price_text:\n",
    "                clean_Price_Range.append(price_text.text.strip())\n",
    "            else:\n",
    "                clean_Price_Range.append('Unknown')\n",
    "        else:\n",
    "            clean_Price_Range.append('Unknown')\n",
    "\n",
    "    # Check if all lists have the same length before creating the DataFrame\n",
    "    min_length = min(len(clean_Name), len(clean_Score), len(clean_Category), len(clean_Price_Range))\n",
    "    clean_Name = clean_Name[:min_length]\n",
    "    clean_Score = clean_Score[:min_length]\n",
    "    clean_Category = clean_Category[:min_length]\n",
    "    clean_Price_Range = clean_Price_Range[:min_length]\n",
    "    \n",
    "    # Store the data in a DataFrame\n",
    "    new_rows_df = pd.DataFrame({\n",
    "        'Name': clean_Name,\n",
    "        'Score': clean_Score,\n",
    "        'Category': clean_Category,\n",
    "        'Price_Range': clean_Price_Range,\n",
    "    })\n",
    "\n",
    "    df = pd.concat([df, new_rows_df], ignore_index=True)\n",
    "    \n",
    "    url = f'https://foursquare.com/explore?mode=url&ne=24.66137%2C46.765409&q=Food&sw=24.601685%2C46.668591&offset={i}'\n",
    "    \n",
    "driver.quit()\n",
    "\n"
   ]
  },
  {
   "cell_type": "code",
   "execution_count": 27,
   "metadata": {},
   "outputs": [
    {
     "data": {
      "text/html": [
       "<div>\n",
       "<style scoped>\n",
       "    .dataframe tbody tr th:only-of-type {\n",
       "        vertical-align: middle;\n",
       "    }\n",
       "\n",
       "    .dataframe tbody tr th {\n",
       "        vertical-align: top;\n",
       "    }\n",
       "\n",
       "    .dataframe thead th {\n",
       "        text-align: right;\n",
       "    }\n",
       "</style>\n",
       "<table border=\"1\" class=\"dataframe\">\n",
       "  <thead>\n",
       "    <tr style=\"text-align: right;\">\n",
       "      <th></th>\n",
       "      <th>Name</th>\n",
       "      <th>Score</th>\n",
       "      <th>Category</th>\n",
       "      <th>Price_Range</th>\n",
       "    </tr>\n",
       "  </thead>\n",
       "  <tbody>\n",
       "    <tr>\n",
       "      <th>0</th>\n",
       "      <td>1. فرن صحيفة وفطائر شامية</td>\n",
       "      <td>9.3</td>\n",
       "      <td>Bakery</td>\n",
       "      <td>Unknown</td>\n",
       "    </tr>\n",
       "    <tr>\n",
       "      <th>1</th>\n",
       "      <td>2. مطاعم ومطابخ باخلعه- مندي ومكتوم</td>\n",
       "      <td>9.2</td>\n",
       "      <td>Middle Eastern</td>\n",
       "      <td>$</td>\n",
       "    </tr>\n",
       "    <tr>\n",
       "      <th>2</th>\n",
       "      <td>3. محامص ومطاحن السوادي</td>\n",
       "      <td>9.2</td>\n",
       "      <td>Snacks</td>\n",
       "      <td>Unknown</td>\n",
       "    </tr>\n",
       "    <tr>\n",
       "      <th>3</th>\n",
       "      <td>4. Fawal Alafrah</td>\n",
       "      <td>9.1</td>\n",
       "      <td>Breakfast</td>\n",
       "      <td>$$</td>\n",
       "    </tr>\n",
       "    <tr>\n",
       "      <th>4</th>\n",
       "      <td>5. Finding Sushi</td>\n",
       "      <td>9.1</td>\n",
       "      <td>Sushi</td>\n",
       "      <td>Unknown</td>\n",
       "    </tr>\n",
       "    <tr>\n",
       "      <th>...</th>\n",
       "      <td>...</td>\n",
       "      <td>...</td>\n",
       "      <td>...</td>\n",
       "      <td>...</td>\n",
       "    </tr>\n",
       "    <tr>\n",
       "      <th>75</th>\n",
       "      <td>4. Fawal Alafrah</td>\n",
       "      <td>9.1</td>\n",
       "      <td>Breakfast</td>\n",
       "      <td>$$</td>\n",
       "    </tr>\n",
       "    <tr>\n",
       "      <th>76</th>\n",
       "      <td>5. Finding Sushi</td>\n",
       "      <td>9.1</td>\n",
       "      <td>Sushi</td>\n",
       "      <td>Unknown</td>\n",
       "    </tr>\n",
       "    <tr>\n",
       "      <th>77</th>\n",
       "      <td>6. AL TYSEER</td>\n",
       "      <td>9.0</td>\n",
       "      <td>Middle Eastern</td>\n",
       "      <td>Unknown</td>\n",
       "    </tr>\n",
       "    <tr>\n",
       "      <th>78</th>\n",
       "      <td>7. AlNaqaa</td>\n",
       "      <td>9.0</td>\n",
       "      <td>Breakfast</td>\n",
       "      <td>$</td>\n",
       "    </tr>\n",
       "    <tr>\n",
       "      <th>79</th>\n",
       "      <td>8. مضغوط تهامة</td>\n",
       "      <td>9.0</td>\n",
       "      <td>Fried Chicken</td>\n",
       "      <td>Unknown</td>\n",
       "    </tr>\n",
       "  </tbody>\n",
       "</table>\n",
       "<p>80 rows × 4 columns</p>\n",
       "</div>"
      ],
      "text/plain": [
       "                                   Name Score        Category Price_Range\n",
       "0             1. فرن صحيفة وفطائر شامية   9.3          Bakery     Unknown\n",
       "1   2. مطاعم ومطابخ باخلعه- مندي ومكتوم   9.2  Middle Eastern           $\n",
       "2               3. محامص ومطاحن السوادي   9.2          Snacks     Unknown\n",
       "3                      4. Fawal Alafrah   9.1       Breakfast          $$\n",
       "4                      5. Finding Sushi   9.1           Sushi     Unknown\n",
       "..                                  ...   ...             ...         ...\n",
       "75                     4. Fawal Alafrah   9.1       Breakfast          $$\n",
       "76                     5. Finding Sushi   9.1           Sushi     Unknown\n",
       "77                         6. AL TYSEER   9.0  Middle Eastern     Unknown\n",
       "78                           7. AlNaqaa   9.0       Breakfast           $\n",
       "79                       8. مضغوط تهامة   9.0   Fried Chicken     Unknown\n",
       "\n",
       "[80 rows x 4 columns]"
      ]
     },
     "execution_count": 27,
     "metadata": {},
     "output_type": "execute_result"
    }
   ],
   "source": [
    "df"
   ]
  },
  {
   "cell_type": "code",
   "execution_count": null,
   "metadata": {},
   "outputs": [],
   "source": []
  }
 ],
 "metadata": {
  "kernelspec": {
   "display_name": "base",
   "language": "python",
   "name": "python3"
  },
  "language_info": {
   "codemirror_mode": {
    "name": "ipython",
    "version": 3
   },
   "file_extension": ".py",
   "mimetype": "text/x-python",
   "name": "python",
   "nbconvert_exporter": "python",
   "pygments_lexer": "ipython3",
   "version": "3.11.7"
  }
 },
 "nbformat": 4,
 "nbformat_minor": 2
}
